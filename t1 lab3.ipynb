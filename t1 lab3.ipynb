{
 "cells": [
  {
   "cell_type": "code",
   "execution_count": 1,
   "id": "8fdda8a2-a91f-4470-bb1d-ccde99815c4a",
   "metadata": {},
   "outputs": [
    {
     "ename": "SyntaxError",
     "evalue": "unterminated string literal (detected at line 6) (393567186.py, line 6)",
     "output_type": "error",
     "traceback": [
      "\u001b[1;36m  Cell \u001b[1;32mIn[1], line 6\u001b[1;36m\u001b[0m\n\u001b[1;33m    weather = ['Sunny', 'Overcast\", \"Rainy', 'Sunny\", \"Rainy', 'Dvercast', 'Sunny', 'Overcast', 'Rainy', 'Sunny\"]\u001b[0m\n\u001b[1;37m                                                                                                         ^\u001b[0m\n\u001b[1;31mSyntaxError\u001b[0m\u001b[1;31m:\u001b[0m unterminated string literal (detected at line 6)\n"
     ]
    }
   ],
   "source": [
    "from sklearn import preprocessing\n",
    "from sklearn.neighbors import KNeighborsClassifier\n",
    "from sklearn.metrics import confusion_matrix, accuracy_score\n",
    "from sklearn.model_selection import train_test_split\n",
    "#Dataset\n",
    "weather = ['Sunny', 'Overcast\", \"Rainy', 'Sunny\", \"Rainy', 'Dvercast', 'Sunny', 'Overcast', 'Rainy', 'Sunny\"]\n",
    "temperature = [\"Hot\", \"Hot\", \"Mild', 'Mild', 'Cool', 'Cool', 'Cool', 'Mild', 'Mild\", 'Mild']\n",
    "play = [\"No\", 'Yes', 'Yes', 'No', 'Yes', 'Yes', 'No', 'Yes', 'Yes', 'No'] # Target variable\n",
    "\n",
    "Encoding categorical data consistently\n",
    "weather_le preprocessing. LabelEncoder()\n",
    "temperature_le preprocessing. LabelEncoder()\n",
    "play_le preprocessing. LabelEncoder()\n",
    "\n",
    "#Fit and transform the data\n",
    "weather_encoded weather_le.fit_transform (weather)\n",
    "temperature_encoded temperature_le.fit_transform(temperature)\n",
    "play_encoded play_le.fit_transform(play)\n",
    "\n",
    "#Combine encoded features\n",
    "features list (zip(weather_encoded, temperature_encoded))\n",
    "\n",
    "#Split data into treining and test sets\n",
    "features_train, features_test, label_train, label_test train_test_split( \n",
    "  features, play_encoded, test_size=0.2, random_state=42\n",
    "#K-Nearest Neighbors model\n",
    "model KNeighborsClassifier(n_neighbors=3, metric='euclidean\")\n",
    "model.fit(features_train, label_train)\n",
    "Prediction for \"Overcast\" and \"Mild\"\n",
    "#Using the same encoder for prediction\n",
    "test_data = (weather_le.transform(\"Overcast'])[8], temperature_le.transform([\"Mild'])[0])]\n",
    "predicted model.predict(test_data)\n",
    "print(\"Prediction for Overcast and Mild:\", \"Yes\" if predicted[0] == 1 else \"No\")\n",
    "\n",
    "#Predictions on the test set and evaluation\n",
    "predicted_test model.predict(features_test)\n",
    "print(\"Test Set Prediction:\", predicted_test)\n",
    "#Confusion Matrix and Accuracy\n",
    "conf_mat confusion_matrix(label_test, predicted_test)\n",
    "print(\"Confusion Matrix:\\n\", conf_mat)\n",
    "accuracy accuracy_score(label_test, predicted_test)\n",
    "print(\"Accuracy:\", accuracy)"
   ]
  },
  {
   "cell_type": "code",
   "execution_count": null,
   "id": "5082b5c2-d7c5-4281-993a-eb027ad4cd7f",
   "metadata": {},
   "outputs": [],
   "source": []
  }
 ],
 "metadata": {
  "kernelspec": {
   "display_name": "Python 3 (ipykernel)",
   "language": "python",
   "name": "python3"
  },
  "language_info": {
   "codemirror_mode": {
    "name": "ipython",
    "version": 3
   },
   "file_extension": ".py",
   "mimetype": "text/x-python",
   "name": "python",
   "nbconvert_exporter": "python",
   "pygments_lexer": "ipython3",
   "version": "3.12.7"
  }
 },
 "nbformat": 4,
 "nbformat_minor": 5
}
