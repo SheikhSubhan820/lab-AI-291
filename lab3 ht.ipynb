{
 "cells": [
  {
   "cell_type": "code",
   "execution_count": 1,
   "id": "930a035a-f5ab-4291-aab3-69db47a226e2",
   "metadata": {},
   "outputs": [
    {
     "name": "stdout",
     "output_type": "stream",
     "text": [
      "Prediction for Red and Medium: Apple\n",
      "Test Set Prediction: ['Orange' 'Apple']\n",
      "Confusion Matrix:\n",
      " [[1 0]\n",
      " [0 1]]\n",
      "Accuracy: 1.0\n"
     ]
    }
   ],
   "source": [
    "from sklearn import preprocessing\n",
    "from sklearn.neighbors import KNeighborsClassifier\n",
    "from sklearn.metrics import confusion_matrix, accuracy_score\n",
    "from sklearn.model_selection import train_test_split\n",
    "\n",
    "# Dataset: Fruit classification\n",
    "color = ['Red', 'Red', 'Orange', 'Red', 'Orange', 'Orange', 'Red', 'Red', 'Orange', 'Red']\n",
    "size = ['Small', 'Medium', 'Medium', 'Large', 'Small', 'Medium', 'Large', 'Small', 'Medium', 'Large']\n",
    "fruit = ['Apple', 'Apple', 'Orange', 'Apple', 'Orange', 'Orange', 'Apple', 'Apple', 'Orange', 'Apple']  # Target variable\n",
    "\n",
    "# Encoding categorical data consistently\n",
    "color_le = preprocessing.LabelEncoder()\n",
    "size_le = preprocessing.LabelEncoder()\n",
    "fruit_le = preprocessing.LabelEncoder()\n",
    "\n",
    "# Fit and transform the data\n",
    "color_encoded = color_le.fit_transform(color)\n",
    "size_encoded = size_le.fit_transform(size)\n",
    "fruit_encoded = fruit_le.fit_transform(fruit)\n",
    "\n",
    "# Combine encoded features\n",
    "features = list(zip(color_encoded, size_encoded))\n",
    "\n",
    "# Split data into training and test sets\n",
    "features_train, features_test, label_train, label_test = train_test_split(\n",
    "    features, fruit_encoded, test_size=0.2, random_state=42\n",
    ")\n",
    "\n",
    "# K-Nearest Neighbors model\n",
    "model = KNeighborsClassifier(n_neighbors=3, metric='euclidean')\n",
    "model.fit(features_train, label_train)\n",
    "\n",
    "# Prediction for \"Red\" and \"Medium\"\n",
    "test_data = [[color_le.transform([\"Red\"])[0], size_le.transform([\"Medium\"])[0]]]\n",
    "predicted = model.predict(test_data)\n",
    "print(\"Prediction for Red and Medium:\", fruit_le.inverse_transform(predicted)[0])\n",
    "\n",
    "# Predictions on the test set and evaluation\n",
    "predicted_test = model.predict(features_test)\n",
    "print(\"Test Set Prediction:\", fruit_le.inverse_transform(predicted_test))\n",
    "\n",
    "# Confusion Matrix and Accuracy\n",
    "conf_mat = confusion_matrix(label_test, predicted_test)\n",
    "print(\"Confusion Matrix:\\n\", conf_mat)\n",
    "\n",
    "accuracy = accuracy_score(label_test, predicted_test)\n",
    "print(\"Accuracy:\", accuracy)\n"
   ]
  },
  {
   "cell_type": "code",
   "execution_count": null,
   "id": "26faf3ed-5783-47ae-9ac8-d08f64671df2",
   "metadata": {},
   "outputs": [],
   "source": []
  }
 ],
 "metadata": {
  "kernelspec": {
   "display_name": "Python 3 (ipykernel)",
   "language": "python",
   "name": "python3"
  },
  "language_info": {
   "codemirror_mode": {
    "name": "ipython",
    "version": 3
   },
   "file_extension": ".py",
   "mimetype": "text/x-python",
   "name": "python",
   "nbconvert_exporter": "python",
   "pygments_lexer": "ipython3",
   "version": "3.12.7"
  }
 },
 "nbformat": 4,
 "nbformat_minor": 5
}
