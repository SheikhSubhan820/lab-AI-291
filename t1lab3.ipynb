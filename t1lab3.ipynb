{
 "cells": [
  {
   "cell_type": "code",
   "execution_count": 3,
   "id": "8fdda8a2-a91f-4470-bb1d-ccde99815c4a",
   "metadata": {},
   "outputs": [
    {
     "name": "stdout",
     "output_type": "stream",
     "text": [
      "Prediction for Overcast and Mild: Yes\n",
      "Test Set Prediction: [1 1]\n",
      "Confusion Matrix:\n",
      " [[2]]\n",
      "Accuracy: 1.0\n"
     ]
    },
    {
     "name": "stderr",
     "output_type": "stream",
     "text": [
      "C:\\Users\\AA\\anaconda3\\Lib\\site-packages\\sklearn\\metrics\\_classification.py:409: UserWarning: A single label was found in 'y_true' and 'y_pred'. For the confusion matrix to have the correct shape, use the 'labels' parameter to pass all known labels.\n",
      "  warnings.warn(\n"
     ]
    }
   ],
   "source": [
    "from sklearn import preprocessing\n",
    "from sklearn.neighbors import KNeighborsClassifier\n",
    "from sklearn.metrics import confusion_matrix, accuracy_score\n",
    "from sklearn.model_selection import train_test_split\n",
    "\n",
    "# Dataset\n",
    "weather = ['Sunny', 'Overcast', 'Rainy', 'Sunny', 'Rainy', 'Overcast', 'Sunny', 'Overcast', 'Rainy', 'Sunny']\n",
    "temperature = ['Hot', 'Hot', 'Mild', 'Mild', 'Cool', 'Cool', 'Cool', 'Mild', 'Mild', 'Mild']\n",
    "play = ['No', 'Yes', 'Yes', 'No', 'Yes', 'Yes', 'No', 'Yes', 'Yes', 'No']  # Target variable\n",
    "\n",
    "# Encoding categorical data consistently\n",
    "weather_le = preprocessing.LabelEncoder()\n",
    "temperature_le = preprocessing.LabelEncoder()\n",
    "play_le = preprocessing.LabelEncoder()\n",
    "\n",
    "# Fit and transform the data\n",
    "weather_encoded = weather_le.fit_transform(weather)\n",
    "temperature_encoded = temperature_le.fit_transform(temperature)\n",
    "play_encoded = play_le.fit_transform(play)\n",
    "\n",
    "# Combine encoded features\n",
    "features = list(zip(weather_encoded, temperature_encoded))\n",
    "\n",
    "# Split data into training and test sets\n",
    "features_train, features_test, label_train, label_test = train_test_split(\n",
    "    features, play_encoded, test_size=0.2, random_state=42\n",
    ")\n",
    "\n",
    "# K-Nearest Neighbors model\n",
    "model = KNeighborsClassifier(n_neighbors=3, metric='euclidean')\n",
    "model.fit(features_train, label_train)\n",
    "\n",
    "# Prediction for \"Overcast\" and \"Mild\"\n",
    "# Using the same encoder for prediction\n",
    "test_data = [[weather_le.transform([\"Overcast\"])[0], temperature_le.transform([\"Mild\"])[0]]]\n",
    "predicted = model.predict(test_data)\n",
    "print(\"Prediction for Overcast and Mild:\", \"Yes\" if predicted[0] == 1 else \"No\")\n",
    "\n",
    "# Predictions on the test set and evaluation\n",
    "predicted_test = model.predict(features_test)\n",
    "print(\"Test Set Prediction:\", predicted_test)\n",
    "\n",
    "# Confusion Matrix and Accuracy\n",
    "conf_mat = confusion_matrix(label_test, predicted_test)\n",
    "print(\"Confusion Matrix:\\n\", conf_mat)\n",
    "\n",
    "accuracy = accuracy_score(label_test, predicted_test)\n",
    "print(\"Accuracy:\", accuracy)\n"
   ]
  },
  {
   "cell_type": "code",
   "execution_count": null,
   "id": "5082b5c2-d7c5-4281-993a-eb027ad4cd7f",
   "metadata": {},
   "outputs": [],
   "source": []
  }
 ],
 "metadata": {
  "kernelspec": {
   "display_name": "Python 3 (ipykernel)",
   "language": "python",
   "name": "python3"
  },
  "language_info": {
   "codemirror_mode": {
    "name": "ipython",
    "version": 3
   },
   "file_extension": ".py",
   "mimetype": "text/x-python",
   "name": "python",
   "nbconvert_exporter": "python",
   "pygments_lexer": "ipython3",
   "version": "3.12.7"
  }
 },
 "nbformat": 4,
 "nbformat_minor": 5
}
