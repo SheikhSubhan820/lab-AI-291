{
 "cells": [
  {
   "cell_type": "code",
   "execution_count": 1,
   "id": "4de334e3-493e-4c06-afd4-4e56ae5de703",
   "metadata": {},
   "outputs": [
    {
     "name": "stdout",
     "output_type": "stream",
     "text": [
      "Distances to training instances:\n",
      "Distance to training instance 1 ((7, 7)): 4.00 -> Class: Bad\n",
      "Distance to training instance 2 ((7, 4)): 5.00 -> Class: Bad\n",
      "Distance to training instance 3 ((3, 4)): 3.00 -> Class: Good\n",
      "Distance to training instance 4 ((1, 4)): 3.61 -> Class: Good\n",
      "\n",
      "Predicted Classification for (3, 7): Good\n"
     ]
    }
   ],
   "source": [
    "import numpy as np\n",
    "from collections import Counter\n",
    "\n",
    "# Training data points (X1, X2) with their classes\n",
    "X_train = [(7, 7), (7, 4), (3, 4), (1, 4)]\n",
    "y_train = ['Bad', 'Bad', 'Good', 'Good']\n",
    "\n",
    "# Query instance\n",
    "query_point = (3, 7)\n",
    "\n",
    "# Define a function to calculate the Euclidean distance\n",
    "def euclidean_distance(point1, point2):\n",
    "    return np.sqrt(sum((x - y) ** 2 for x, y in zip(point1, point2)))\n",
    "\n",
    "# Calculate all distances from the query point to each training point\n",
    "distances = [(euclidean_distance(query_point, X_train[i]), y_train[i]) for i in range(len(X_train))]\n",
    "\n",
    "# Display each calculated distance\n",
    "print(\"Distances to training instances:\")\n",
    "for i, (distance, classification) in enumerate(distances):\n",
    "    print(f\"Distance to training instance {i + 1} ({X_train[i]}): {distance:.2f} -> Class: {classification}\")\n",
    "\n",
    "# Sort distances in ascending order and select the nearest neighbors\n",
    "k = 3\n",
    "nearest_neighbors = sorted(distances, key=lambda x: x[0])[:k]\n",
    "\n",
    "# Get the classes of the nearest neighbors\n",
    "nearest_classes = [neighbor[1] for neighbor in nearest_neighbors]\n",
    "\n",
    "# Determine the majority class among the nearest neighbors\n",
    "predicted_class = Counter(nearest_classes).most_common(1)[0][0]\n",
    "\n",
    "# Display the predicted classification for the query point\n",
    "print(f\"\\nPredicted Classification for {query_point}: {predicted_class}\")\n"
   ]
  },
  {
   "cell_type": "code",
   "execution_count": null,
   "id": "047c675d-8391-4a47-acf1-4f5bf13a3e8c",
   "metadata": {},
   "outputs": [],
   "source": []
  }
 ],
 "metadata": {
  "kernelspec": {
   "display_name": "Python 3 (ipykernel)",
   "language": "python",
   "name": "python3"
  },
  "language_info": {
   "codemirror_mode": {
    "name": "ipython",
    "version": 3
   },
   "file_extension": ".py",
   "mimetype": "text/x-python",
   "name": "python",
   "nbconvert_exporter": "python",
   "pygments_lexer": "ipython3",
   "version": "3.12.7"
  }
 },
 "nbformat": 4,
 "nbformat_minor": 5
}
